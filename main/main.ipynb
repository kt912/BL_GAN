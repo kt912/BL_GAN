{
 "cells": [
  {
   "cell_type": "markdown",
   "source": [
    "This is a test notebook which is designed to simulate some codes.\r\n",
    "\r\n",
    "First, we will implement "
   ],
   "metadata": {}
  },
  {
   "cell_type": "code",
   "execution_count": null,
   "source": [],
   "outputs": [],
   "metadata": {}
  }
 ],
 "metadata": {
  "orig_nbformat": 4,
  "language_info": {
   "name": "python"
  }
 },
 "nbformat": 4,
 "nbformat_minor": 2
}